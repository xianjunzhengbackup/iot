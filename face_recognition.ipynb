{
 "cells": [
  {
   "cell_type": "code",
   "execution_count": 93,
   "metadata": {},
   "outputs": [],
   "source": [
    "import face_recognition\n",
    "from PIL import Image,ImageDraw\n",
    "import cv2"
   ]
  },
  {
   "cell_type": "code",
   "execution_count": 94,
   "metadata": {},
   "outputs": [],
   "source": [
    "image=face_recognition.load_image_file(\"jun.jpg\")"
   ]
  },
  {
   "cell_type": "code",
   "execution_count": 95,
   "metadata": {},
   "outputs": [],
   "source": [
    "face_locations=face_recognition.face_locations(image)"
   ]
  },
  {
   "cell_type": "code",
   "execution_count": 96,
   "metadata": {},
   "outputs": [],
   "source": [
    "(top,right,bottom,left) = face_locations[0]"
   ]
  },
  {
   "cell_type": "markdown",
   "metadata": {},
   "source": [
    "# 指定人脸的位置信息，然后显示人脸图片"
   ]
  },
  {
   "cell_type": "code",
   "execution_count": 97,
   "metadata": {},
   "outputs": [],
   "source": [
    "face_image=image[top:bottom,left:right]"
   ]
  },
  {
   "cell_type": "code",
   "execution_count": 98,
   "metadata": {},
   "outputs": [],
   "source": [
    "pil_image=Image.fromarray(face_image)"
   ]
  },
  {
   "cell_type": "code",
   "execution_count": 99,
   "metadata": {},
   "outputs": [],
   "source": [
    "pil_image.show()"
   ]
  },
  {
   "cell_type": "code",
   "execution_count": 100,
   "metadata": {},
   "outputs": [],
   "source": [
    "know_image=face_recognition.load_image_file(\"jun.jpg\")"
   ]
  },
  {
   "cell_type": "code",
   "execution_count": 101,
   "metadata": {},
   "outputs": [],
   "source": [
    "unkonw_images=face_recognition.load_image_file(\"friends.jpg\")"
   ]
  },
  {
   "cell_type": "code",
   "execution_count": 102,
   "metadata": {},
   "outputs": [],
   "source": [
    "jun_encoding=face_recognition.face_encodings(know_image)[0]"
   ]
  },
  {
   "cell_type": "code",
   "execution_count": 103,
   "metadata": {},
   "outputs": [],
   "source": [
    "face_locations = face_recognition.face_locations(unkonw_images)"
   ]
  },
  {
   "cell_type": "code",
   "execution_count": 104,
   "metadata": {},
   "outputs": [],
   "source": [
    "unkonw_encodings=face_recognition.face_encodings(unkonw_images,face_locations)"
   ]
  },
  {
   "cell_type": "markdown",
   "metadata": {},
   "source": [
    "# 指定人脸的位置信息，然后显示人脸图片\n",
    "        face_image = image[top:bottom, left:right]\n",
    "        pil_image = Image.fromarray(face_image)\n",
    "        pil_image.show()"
   ]
  },
  {
   "cell_type": "code",
   "execution_count": 106,
   "metadata": {},
   "outputs": [],
   "source": [
    "index=0\n",
    "for candidat in unkonw_encodings:\n",
    "    result=face_recognition.compare_faces([jun_encoding],candidat)\n",
    "    if result[0]:\n",
    "        (top,right,bottom,left)=face_locations[index]\n",
    "        pil_image=Image.fromarray(unkonw_images)\n",
    "        draw = ImageDraw.Draw(pil_image)\n",
    "        draw.line((left,top,left,bottom), fill=128)\n",
    "        draw.line((left,bottom,right,bottom),fill=128)\n",
    "        draw.line((right,bottom,right,top),fill=128)\n",
    "        draw.line((right,top,left,top),fill=128)\n",
    "        pil_image.show()"
   ]
  },
  {
   "cell_type": "code",
   "execution_count": null,
   "metadata": {},
   "outputs": [],
   "source": []
  }
 ],
 "metadata": {
  "kernelspec": {
   "display_name": "Python 3",
   "language": "python",
   "name": "python3"
  },
  "language_info": {
   "codemirror_mode": {
    "name": "ipython",
    "version": 3
   },
   "file_extension": ".py",
   "mimetype": "text/x-python",
   "name": "python",
   "nbconvert_exporter": "python",
   "pygments_lexer": "ipython3",
   "version": "3.6.2"
  }
 },
 "nbformat": 4,
 "nbformat_minor": 2
}
